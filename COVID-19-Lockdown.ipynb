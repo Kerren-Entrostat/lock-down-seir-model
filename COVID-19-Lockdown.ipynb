{
 "cells": [
  {
   "cell_type": "code",
   "execution_count": 1,
   "metadata": {},
   "outputs": [],
   "source": [
    "import ipywidgets as widgets\n",
    "import numpy as np\n",
    "%matplotlib inline\n",
    "import matplotlib.pyplot as plt\n",
    "plt.style.use('seaborn-whitegrid')"
   ]
  },
  {
   "cell_type": "code",
   "execution_count": 2,
   "metadata": {},
   "outputs": [],
   "source": [
    "R_0_slider = widgets.FloatSlider(value=2.2, min=0, max=20, step=0.0001, description=\"Starting R0:\")"
   ]
  },
  {
   "cell_type": "code",
   "execution_count": 3,
   "metadata": {},
   "outputs": [],
   "source": [
    "N_slider = widgets.IntSlider(value=50000000, min=1, max=7000000000, step=100000, description=\"Population Size:\")"
   ]
  },
  {
   "cell_type": "code",
   "execution_count": 4,
   "metadata": {},
   "outputs": [],
   "source": [
    "D_inf_slider = widgets.FloatSlider(value=2.9, min=0, max=30, step=0.01, description=\"Duration of infection (days):\")"
   ]
  },
  {
   "cell_type": "code",
   "execution_count": 5,
   "metadata": {},
   "outputs": [],
   "source": [
    "D_inc_slider = widgets.FloatSlider(value=5.5, min=0, max=30, step=0.01, description=\"Incubation period (days):\")"
   ]
  },
  {
   "cell_type": "code",
   "execution_count": 6,
   "metadata": {},
   "outputs": [],
   "source": [
    "R_inf_slider = widgets.FloatSlider(value=2.68, min=0, max=30, step=0.0001, description=\"Infectious rate:\")"
   ]
  },
  {
   "cell_type": "code",
   "execution_count": 7,
   "metadata": {},
   "outputs": [
    {
     "data": {
      "application/vnd.jupyter.widget-view+json": {
       "model_id": "fcd1ce7f93854c03ab86faafab8a8654",
       "version_major": 2,
       "version_minor": 0
      },
      "text/plain": [
       "FloatSlider(value=2.68, description='Infectious rate:', max=30.0, step=0.0001)"
      ]
     },
     "metadata": {},
     "output_type": "display_data"
    }
   ],
   "source": [
    "R_inf_slider"
   ]
  },
  {
   "cell_type": "code",
   "execution_count": 8,
   "metadata": {},
   "outputs": [
    {
     "data": {
      "application/vnd.jupyter.widget-view+json": {
       "model_id": "10113e24514b41ce976b89ead0132ac6",
       "version_major": 2,
       "version_minor": 0
      },
      "text/plain": [
       "FloatSlider(value=2.9, description='Duration of infection (days):', max=30.0, step=0.01)"
      ]
     },
     "metadata": {},
     "output_type": "display_data"
    }
   ],
   "source": [
    "D_inf_slider"
   ]
  },
  {
   "cell_type": "code",
   "execution_count": 9,
   "metadata": {},
   "outputs": [
    {
     "data": {
      "application/vnd.jupyter.widget-view+json": {
       "model_id": "c72eb10be98846d080fd016493e0a6a8",
       "version_major": 2,
       "version_minor": 0
      },
      "text/plain": [
       "FloatSlider(value=5.5, description='Incubation period (days):', max=30.0, step=0.01)"
      ]
     },
     "metadata": {},
     "output_type": "display_data"
    }
   ],
   "source": [
    "D_inc_slider"
   ]
  },
  {
   "cell_type": "code",
   "execution_count": 10,
   "metadata": {},
   "outputs": [],
   "source": [
    "lockdown_start_widget = widgets.IntText(value=19, description=\"Lockdown Start:\")"
   ]
  },
  {
   "cell_type": "code",
   "execution_count": 11,
   "metadata": {},
   "outputs": [],
   "source": [
    "lockdown_length_widget = widgets.IntText(value=21, description=\"Lockdown Length:\")"
   ]
  },
  {
   "cell_type": "code",
   "execution_count": 12,
   "metadata": {},
   "outputs": [],
   "source": [
    "lockdown_r_inf_widget = widgets.FloatText(value=0.1, description=\"Lockdown R_inf:\")"
   ]
  },
  {
   "cell_type": "code",
   "execution_count": 13,
   "metadata": {},
   "outputs": [
    {
     "data": {
      "application/vnd.jupyter.widget-view+json": {
       "model_id": "f2a54a80fa954524a68bccf022507b30",
       "version_major": 2,
       "version_minor": 0
      },
      "text/plain": [
       "IntText(value=19, description='Lockdown Start:')"
      ]
     },
     "metadata": {},
     "output_type": "display_data"
    }
   ],
   "source": [
    "lockdown_start_widget"
   ]
  },
  {
   "cell_type": "code",
   "execution_count": 14,
   "metadata": {},
   "outputs": [
    {
     "data": {
      "application/vnd.jupyter.widget-view+json": {
       "model_id": "5fb9701fcb994791840cd1b4b17213c3",
       "version_major": 2,
       "version_minor": 0
      },
      "text/plain": [
       "IntText(value=21, description='Lockdown Length:')"
      ]
     },
     "metadata": {},
     "output_type": "display_data"
    }
   ],
   "source": [
    "lockdown_length_widget"
   ]
  },
  {
   "cell_type": "code",
   "execution_count": 15,
   "metadata": {},
   "outputs": [
    {
     "data": {
      "application/vnd.jupyter.widget-view+json": {
       "model_id": "97c9996339e24a94a105250b07b61bae",
       "version_major": 2,
       "version_minor": 0
      },
      "text/plain": [
       "FloatText(value=0.1, description='Lockdown R_inf:')"
      ]
     },
     "metadata": {},
     "output_type": "display_data"
    }
   ],
   "source": [
    "lockdown_r_inf_widget"
   ]
  },
  {
   "cell_type": "code",
   "execution_count": 16,
   "metadata": {},
   "outputs": [],
   "source": [
    "# The infectious rate over time, at the moment I'm setting it to a constant\n",
    "def R_inf(t):\n",
    "    start = lockdown_start_widget.value\n",
    "    length = lockdown_length_widget.value\n",
    "    if t >= start and t <= start + length:\n",
    "        return lockdown_r_inf_widget.value\n",
    "    return R_inf_slider.value"
   ]
  },
  {
   "cell_type": "code",
   "execution_count": 17,
   "metadata": {},
   "outputs": [],
   "source": [
    "# The population over time, at the moment I'm setting it to a constant\n",
    "def N(t):\n",
    "    return N_slider.value"
   ]
  },
  {
   "cell_type": "code",
   "execution_count": 18,
   "metadata": {},
   "outputs": [],
   "source": [
    "# The infectious duration over time\n",
    "def D_inf(t):\n",
    "    return D_inf_slider.value"
   ]
  },
  {
   "cell_type": "code",
   "execution_count": 19,
   "metadata": {},
   "outputs": [],
   "source": [
    "# The incubation duration rate over time\n",
    "def D_inc(t):\n",
    "    return D_inc_slider.value"
   ]
  },
  {
   "cell_type": "code",
   "execution_count": 20,
   "metadata": {},
   "outputs": [],
   "source": [
    "# The recovery rate over time\n",
    "def R_recov(t):\n",
    "    return 1 / D_inf(t)"
   ]
  },
  {
   "cell_type": "code",
   "execution_count": 21,
   "metadata": {},
   "outputs": [],
   "source": [
    "# The incubation rate over time\n",
    "def R_inc(t):\n",
    "    return 1 / D_inc(t)"
   ]
  },
  {
   "cell_type": "code",
   "execution_count": 22,
   "metadata": {},
   "outputs": [],
   "source": [
    "max_t = widgets.IntSlider(value=120, min=1, max=720)"
   ]
  },
  {
   "cell_type": "code",
   "execution_count": 29,
   "metadata": {},
   "outputs": [
    {
     "data": {
      "application/vnd.jupyter.widget-view+json": {
       "model_id": "46e3744eff7644508391c6cf440e65e6",
       "version_major": 2,
       "version_minor": 0
      },
      "text/plain": [
       "IntSlider(value=42, max=720, min=1)"
      ]
     },
     "metadata": {},
     "output_type": "display_data"
    }
   ],
   "source": [
    "max_t"
   ]
  },
  {
   "cell_type": "code",
   "execution_count": 35,
   "metadata": {},
   "outputs": [],
   "source": [
    "t = np.arange(max_t.value)\n",
    "\n",
    "S_vec = np.zeros(len(t))\n",
    "E_vec = np.zeros(len(t))\n",
    "I_vec = np.zeros(len(t))\n",
    "R_vec = np.zeros(len(t))\n",
    "\n",
    "E_vec[0] = 0\n",
    "I_vec[0] = 1\n",
    "R_vec[0] = 0\n",
    "S_vec[0] = N(0) - I_vec[0]"
   ]
  },
  {
   "cell_type": "code",
   "execution_count": 36,
   "metadata": {},
   "outputs": [],
   "source": [
    "def S(t):\n",
    "    if t < 0:\n",
    "        return S_vec[0]\n",
    "    return S_vec[t] if S_vec[t] > 0 else 0\n",
    "\n",
    "def E(t):\n",
    "    if t < 0:\n",
    "        return E_vec[0]\n",
    "    return E_vec[t] if E_vec[t] > 0 else 0\n",
    "\n",
    "def I(t):\n",
    "    if t < 0:\n",
    "        return I_vec[0]\n",
    "    return I_vec[t] if I_vec[t] > 0 else 0\n",
    "\n",
    "def R(t):\n",
    "    if t < 0:\n",
    "        return R_vec[0]\n",
    "    return R_vec[t] if R_vec[t] > 0 else 0"
   ]
  },
  {
   "cell_type": "code",
   "execution_count": 37,
   "metadata": {},
   "outputs": [],
   "source": [
    "def dS(t):\n",
    "    return - R_inf(t) * S(t) * I(t) / N(t)\n",
    "\n",
    "def dE(t):\n",
    "    return R_inf(t) * S(t) * I(t) / N(t) - R_inc(t) * E(t)\n",
    "\n",
    "def dI(t):\n",
    "    return R_inc(t) * E(t) - R_recov(t) * I(t)\n",
    "\n",
    "def dR(t):\n",
    "    return R_recov(t) * I(t)"
   ]
  },
  {
   "cell_type": "code",
   "execution_count": 38,
   "metadata": {},
   "outputs": [],
   "source": [
    "for i in t:\n",
    "    t_curr = int(i + 1)\n",
    "    \n",
    "    if t_curr == len(t):\n",
    "        continue\n",
    "    \n",
    "    t_prev = int(i)\n",
    "    \n",
    "    S_vec[t_curr] = S(t_prev) + dS(t_prev)\n",
    "    E_vec[t_curr] = E(t_prev) + dE(t_prev)\n",
    "    I_vec[t_curr] = I(t_prev) + dI(t_prev)\n",
    "    R_vec[t_curr] = R(t_prev) + dR(t_prev)"
   ]
  },
  {
   "cell_type": "code",
   "execution_count": 39,
   "metadata": {},
   "outputs": [
    {
     "data": {
      "text/plain": [
       "<matplotlib.legend.Legend at 0x7f3251904f10>"
      ]
     },
     "execution_count": 39,
     "metadata": {},
     "output_type": "execute_result"
    },
    {
     "data": {
      "image/png": "[encoded data removed]",
      "text/plain": [
       "<Figure size 432x288 with 1 Axes>"
      ]
     },
     "metadata": {},
     "output_type": "display_data"
    }
   ],
   "source": [
    "fig = plt.figure()\n",
    "ax = plt.axes()\n",
    "\n",
    "ax.plot(t, S_vec, color='blue')\n",
    "ax.plot(t, E_vec, color='orange')\n",
    "ax.plot(t, I_vec, color='red')\n",
    "ax.plot(t, R_vec, color='green')\n",
    "ax.legend(['Susceptible', 'Exposed', 'Infected', 'Removed'])"
   ]
  }
 ],
 "metadata": {
  "kernelspec": {
   "display_name": "Python 3",
   "language": "python",
   "name": "python3"
  },
  "language_info": {
   "codemirror_mode": {
    "name": "ipython",
    "version": 3
   },
   "file_extension": ".py",
   "mimetype": "text/x-python",
   "name": "python",
   "nbconvert_exporter": "python",
   "pygments_lexer": "ipython3",
   "version": "3.7.5"
  }
 },
 "nbformat": 4,
 "nbformat_minor": 4
}
