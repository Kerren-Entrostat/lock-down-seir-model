{
 "cells": [
  {
   "cell_type": "code",
   "execution_count": 59,
   "metadata": {},
   "outputs": [],
   "source": [
    "import ipywidgets as widgets\n",
    "import numpy as np\n",
    "%matplotlib inline\n",
    "import matplotlib.pyplot as plt\n",
    "plt.style.use('seaborn-whitegrid')"
   ]
  },
  {
   "cell_type": "code",
   "execution_count": 60,
   "metadata": {},
   "outputs": [],
   "source": [
    "R_0_slider = widgets.FloatSlider(value=2.2, min=0, max=20, step=0.0001, description=\"Starting R0:\")"
   ]
  },
  {
   "cell_type": "code",
   "execution_count": 61,
   "metadata": {},
   "outputs": [],
   "source": [
    "N_slider = widgets.IntSlider(value=50000000, min=1, max=7000000000, step=100000, description=\"Population Size:\")"
   ]
  },
  {
   "cell_type": "code",
   "execution_count": 62,
   "metadata": {},
   "outputs": [],
   "source": [
    "D_inf_slider = widgets.FloatSlider(value=2.9, min=0, max=30, step=0.01, description=\"Duration of infection (days):\")"
   ]
  },
  {
   "cell_type": "code",
   "execution_count": 63,
   "metadata": {},
   "outputs": [],
   "source": [
    "D_inc_slider = widgets.FloatSlider(value=5.5, min=0, max=30, step=0.01, description=\"Incubation period (days):\")"
   ]
  },
  {
   "cell_type": "code",
   "execution_count": 64,
   "metadata": {},
   "outputs": [],
   "source": [
    "R_inf_slider = widgets.FloatSlider(value=2.68, min=0, max=30, step=0.0001, description=\"Infectious rate:\")"
   ]
  },
  {
   "cell_type": "code",
   "execution_count": 65,
   "metadata": {},
   "outputs": [
    {
     "data": {
      "application/vnd.jupyter.widget-view+json": {
       "model_id": "56df256d80444856afbcb887ad8ab5fd",
       "version_major": 2,
       "version_minor": 0
      },
      "text/plain": [
       "FloatSlider(value=2.68, description='Infectious rate:', max=30.0, step=0.0001)"
      ]
     },
     "metadata": {},
     "output_type": "display_data"
    }
   ],
   "source": [
    "R_inf_slider"
   ]
  },
  {
   "cell_type": "code",
   "execution_count": 66,
   "metadata": {},
   "outputs": [
    {
     "data": {
      "application/vnd.jupyter.widget-view+json": {
       "model_id": "dba92df42cf5488a9167f21f550b563b",
       "version_major": 2,
       "version_minor": 0
      },
      "text/plain": [
       "FloatSlider(value=2.9, description='Duration of infection (days):', max=30.0, step=0.01)"
      ]
     },
     "metadata": {},
     "output_type": "display_data"
    }
   ],
   "source": [
    "D_inf_slider"
   ]
  },
  {
   "cell_type": "code",
   "execution_count": 67,
   "metadata": {},
   "outputs": [
    {
     "data": {
      "application/vnd.jupyter.widget-view+json": {
       "model_id": "b90a54302d3b466599b10210b827c461",
       "version_major": 2,
       "version_minor": 0
      },
      "text/plain": [
       "FloatSlider(value=5.5, description='Incubation period (days):', max=30.0, step=0.01)"
      ]
     },
     "metadata": {},
     "output_type": "display_data"
    }
   ],
   "source": [
    "D_inc_slider"
   ]
  },
  {
   "cell_type": "code",
   "execution_count": 68,
   "metadata": {},
   "outputs": [],
   "source": [
    "lockdown_start_widget = widgets.IntText(value=40, description=\"Lockdown Start:\")"
   ]
  },
  {
   "cell_type": "code",
   "execution_count": 69,
   "metadata": {},
   "outputs": [],
   "source": [
    "lockdown_length_widget = widgets.IntText(value=21, description=\"Lockdown Length:\")"
   ]
  },
  {
   "cell_type": "code",
   "execution_count": 70,
   "metadata": {},
   "outputs": [],
   "source": [
    "lockdown_r_inf_widget = widgets.FloatText(value=0.1, description=\"Lockdown R_inf:\")"
   ]
  },
  {
   "cell_type": "code",
   "execution_count": 71,
   "metadata": {},
   "outputs": [
    {
     "data": {
      "application/vnd.jupyter.widget-view+json": {
       "model_id": "f2b403fc0c6544f0acb70f8f10f23eea",
       "version_major": 2,
       "version_minor": 0
      },
      "text/plain": [
       "IntText(value=40, description='Lockdown Start:')"
      ]
     },
     "metadata": {},
     "output_type": "display_data"
    }
   ],
   "source": [
    "lockdown_start_widget"
   ]
  },
  {
   "cell_type": "code",
   "execution_count": 72,
   "metadata": {},
   "outputs": [
    {
     "data": {
      "application/vnd.jupyter.widget-view+json": {
       "model_id": "bbc6e84b998941049445d048caf61f50",
       "version_major": 2,
       "version_minor": 0
      },
      "text/plain": [
       "IntText(value=21, description='Lockdown Length:')"
      ]
     },
     "metadata": {},
     "output_type": "display_data"
    }
   ],
   "source": [
    "lockdown_length_widget"
   ]
  },
  {
   "cell_type": "code",
   "execution_count": 73,
   "metadata": {},
   "outputs": [
    {
     "data": {
      "application/vnd.jupyter.widget-view+json": {
       "model_id": "569288109934426f95ff818d8fff1d8a",
       "version_major": 2,
       "version_minor": 0
      },
      "text/plain": [
       "FloatText(value=0.1, description='Lockdown R_inf:')"
      ]
     },
     "metadata": {},
     "output_type": "display_data"
    }
   ],
   "source": [
    "lockdown_r_inf_widget"
   ]
  },
  {
   "cell_type": "code",
   "execution_count": 74,
   "metadata": {},
   "outputs": [],
   "source": [
    "# The infectious rate over time, at the moment I'm setting it to a constant\n",
    "def R_inf(t):\n",
    "    start = lockdown_start_widget.value\n",
    "    length = lockdown_length_widget.value\n",
    "    if t >= start and t <= start + length:\n",
    "        return lockdown_r_inf_widget.value\n",
    "    return R_inf_slider.value"
   ]
  },
  {
   "cell_type": "code",
   "execution_count": 75,
   "metadata": {},
   "outputs": [],
   "source": [
    "# The population over time, at the moment I'm setting it to a constant\n",
    "def N(t):\n",
    "    return N_slider.value"
   ]
  },
  {
   "cell_type": "code",
   "execution_count": 76,
   "metadata": {},
   "outputs": [],
   "source": [
    "# The infectious duration over time\n",
    "def D_inf(t):\n",
    "    return D_inf_slider.value"
   ]
  },
  {
   "cell_type": "code",
   "execution_count": 77,
   "metadata": {},
   "outputs": [],
   "source": [
    "# The incubation duration rate over time\n",
    "def D_inc(t):\n",
    "    return D_inc_slider.value"
   ]
  },
  {
   "cell_type": "code",
   "execution_count": 78,
   "metadata": {},
   "outputs": [],
   "source": [
    "# The recovery rate over time\n",
    "def R_recov(t):\n",
    "    return 1 / D_inf(t)"
   ]
  },
  {
   "cell_type": "code",
   "execution_count": 79,
   "metadata": {},
   "outputs": [],
   "source": [
    "# The incubation rate over time\n",
    "def R_inc(t):\n",
    "    return 1 / D_inc(t)"
   ]
  },
  {
   "cell_type": "code",
   "execution_count": 80,
   "metadata": {},
   "outputs": [],
   "source": [
    "max_t = widgets.IntSlider(value=120, min=1, max=720)"
   ]
  },
  {
   "cell_type": "code",
   "execution_count": 81,
   "metadata": {},
   "outputs": [
    {
     "data": {
      "application/vnd.jupyter.widget-view+json": {
       "model_id": "226e517d60a14198b77411391fece4a7",
       "version_major": 2,
       "version_minor": 0
      },
      "text/plain": [
       "IntSlider(value=120, max=720, min=1)"
      ]
     },
     "metadata": {},
     "output_type": "display_data"
    }
   ],
   "source": [
    "max_t"
   ]
  },
  {
   "cell_type": "code",
   "execution_count": 82,
   "metadata": {},
   "outputs": [],
   "source": [
    "t = np.arange(max_t.value)\n",
    "\n",
    "S_vec = np.zeros(len(t))\n",
    "E_vec = np.zeros(len(t))\n",
    "I_vec = np.zeros(len(t))\n",
    "R_vec = np.zeros(len(t))\n",
    "\n",
    "E_vec[0] = 0\n",
    "I_vec[0] = 1\n",
    "R_vec[0] = 0\n",
    "S_vec[0] = N(0) - I_vec[0]"
   ]
  },
  {
   "cell_type": "code",
   "execution_count": 83,
   "metadata": {},
   "outputs": [],
   "source": [
    "def S(t):\n",
    "    if t < 0:\n",
    "        return S_vec[0]\n",
    "    return S_vec[t] if S_vec[t] > 0 else 0\n",
    "\n",
    "def E(t):\n",
    "    if t < 0:\n",
    "        return E_vec[0]\n",
    "    return E_vec[t] if E_vec[t] > 0 else 0\n",
    "\n",
    "def I(t):\n",
    "    if t < 0:\n",
    "        return I_vec[0]\n",
    "    return I_vec[t] if I_vec[t] > 0 else 0\n",
    "\n",
    "def R(t):\n",
    "    if t < 0:\n",
    "        return R_vec[0]\n",
    "    return R_vec[t] if R_vec[t] > 0 else 0"
   ]
  },
  {
   "cell_type": "code",
   "execution_count": 84,
   "metadata": {},
   "outputs": [],
   "source": [
    "def dS(t):\n",
    "    return - R_inf(t) * S(t) * I(t) / N(t)\n",
    "\n",
    "def dE(t):\n",
    "    return R_inf(t) * S(t) * I(t) / N(t) - R_inc(t) * E(t)\n",
    "\n",
    "def dI(t):\n",
    "    return R_inc(t) * E(t) - R_recov(t) * I(t)\n",
    "\n",
    "def dR(t):\n",
    "    return R_recov(t) * I(t)"
   ]
  },
  {
   "cell_type": "code",
   "execution_count": 85,
   "metadata": {},
   "outputs": [],
   "source": [
    "for i in t:\n",
    "    t_curr = int(i + 1)\n",
    "    \n",
    "    if t_curr == len(t):\n",
    "        continue\n",
    "    \n",
    "    t_prev = int(i)\n",
    "    \n",
    "    S_vec[t_curr] = S(t_prev) + dS(t_prev)\n",
    "    E_vec[t_curr] = E(t_prev) + dE(t_prev)\n",
    "    I_vec[t_curr] = I(t_prev) + dI(t_prev)\n",
    "    R_vec[t_curr] = R(t_prev) + dR(t_prev)"
   ]
  },
  {
   "cell_type": "code",
   "execution_count": 86,
   "metadata": {},
   "outputs": [
    {
     "data": {
      "text/plain": [
       "<matplotlib.legend.Legend at 0x7ff4d6912890>"
      ]
     },
     "execution_count": 86,
     "metadata": {},
     "output_type": "execute_result"
    },
    {
     "data": {
      "image/png": "[encoded data removed]",
      "text/plain": [
       "<Figure size 432x288 with 1 Axes>"
      ]
     },
     "metadata": {},
     "output_type": "display_data"
    }
   ],
   "source": [
    "fig = plt.figure()\n",
    "ax = plt.axes()\n",
    "\n",
    "ax.plot(t, S_vec, color='blue')\n",
    "ax.plot(t, E_vec, color='orange')\n",
    "ax.plot(t, I_vec, color='red')\n",
    "ax.plot(t, R_vec, color='green')\n",
    "ax.legend(['Susceptible', 'Exposed', 'Infected', 'Removed'])"
   ]
  },
  {
   "cell_type": "code",
   "execution_count": null,
   "metadata": {},
   "outputs": [],
   "source": []
  }
 ],
 "metadata": {
  "kernelspec": {
   "display_name": "Python 3",
   "language": "python",
   "name": "python3"
  },
  "language_info": {
   "codemirror_mode": {
    "name": "ipython",
    "version": 3
   },
   "file_extension": ".py",
   "mimetype": "text/x-python",
   "name": "python",
   "nbconvert_exporter": "python",
   "pygments_lexer": "ipython3",
   "version": "3.7.5"
  }
 },
 "nbformat": 4,
 "nbformat_minor": 4
}
