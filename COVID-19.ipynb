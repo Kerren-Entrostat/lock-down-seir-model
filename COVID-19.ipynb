{
 "cells": [
  {
   "cell_type": "code",
   "execution_count": 45,
   "metadata": {},
   "outputs": [],
   "source": [
    "import ipywidgets as widgets\n",
    "import numpy as np\n",
    "%matplotlib inline\n",
    "import matplotlib.pyplot as plt\n",
    "plt.style.use('seaborn-whitegrid')"
   ]
  },
  {
   "cell_type": "code",
   "execution_count": 46,
   "metadata": {},
   "outputs": [],
   "source": [
    "R_0_slider = widgets.FloatSlider(value=2.2, min=0, max=20, step=0.0001, description=\"Starting R0:\")"
   ]
  },
  {
   "cell_type": "code",
   "execution_count": 47,
   "metadata": {},
   "outputs": [],
   "source": [
    "N_slider = widgets.IntSlider(value=50000000, min=1, max=7000000000, step=100000, description=\"Population Size:\")"
   ]
  },
  {
   "cell_type": "code",
   "execution_count": 48,
   "metadata": {},
   "outputs": [],
   "source": [
    "D_inf_slider = widgets.FloatSlider(value=2.9, min=0, max=30, step=0.01, description=\"Duration of infection (days):\")"
   ]
  },
  {
   "cell_type": "code",
   "execution_count": 49,
   "metadata": {},
   "outputs": [],
   "source": [
    "D_inc_slider = widgets.FloatSlider(value=5.5, min=0, max=30, step=0.01, description=\"Incubation period (days):\")"
   ]
  },
  {
   "cell_type": "code",
   "execution_count": 50,
   "metadata": {},
   "outputs": [],
   "source": [
    "R_inf_slider = widgets.FloatSlider(value=2.68, min=0, max=30, step=0.0001, description=\"Infectious rate:\")"
   ]
  },
  {
   "cell_type": "code",
   "execution_count": 51,
   "metadata": {},
   "outputs": [
    {
     "data": {
      "application/vnd.jupyter.widget-view+json": {
       "model_id": "480ddb4626954caa84dbc1c7e359aa93",
       "version_major": 2,
       "version_minor": 0
      },
      "text/plain": [
       "FloatSlider(value=2.68, description='Infectious rate:', max=30.0, step=0.0001)"
      ]
     },
     "metadata": {},
     "output_type": "display_data"
    }
   ],
   "source": [
    "R_inf_slider"
   ]
  },
  {
   "cell_type": "code",
   "execution_count": 52,
   "metadata": {},
   "outputs": [
    {
     "data": {
      "application/vnd.jupyter.widget-view+json": {
       "model_id": "5e92751c25b648e0b6216b4e2c086c2e",
       "version_major": 2,
       "version_minor": 0
      },
      "text/plain": [
       "FloatSlider(value=2.9, description='Duration of infection (days):', max=30.0, step=0.01)"
      ]
     },
     "metadata": {},
     "output_type": "display_data"
    }
   ],
   "source": [
    "D_inf_slider"
   ]
  },
  {
   "cell_type": "code",
   "execution_count": 53,
   "metadata": {},
   "outputs": [
    {
     "data": {
      "application/vnd.jupyter.widget-view+json": {
       "model_id": "9788e262748d40feb80394b9c87a58d9",
       "version_major": 2,
       "version_minor": 0
      },
      "text/plain": [
       "FloatSlider(value=5.5, description='Incubation period (days):', max=30.0, step=0.01)"
      ]
     },
     "metadata": {},
     "output_type": "display_data"
    }
   ],
   "source": [
    "D_inc_slider"
   ]
  },
  {
   "cell_type": "code",
   "execution_count": 54,
   "metadata": {},
   "outputs": [],
   "source": [
    "# The infectious rate over time, at the moment I'm setting it to a constant\n",
    "def R_inf(t):\n",
    "    return R_inf_slider.value"
   ]
  },
  {
   "cell_type": "code",
   "execution_count": 55,
   "metadata": {},
   "outputs": [],
   "source": [
    "# The population over time, at the moment I'm setting it to a constant\n",
    "def N(t):\n",
    "    return N_slider.value"
   ]
  },
  {
   "cell_type": "code",
   "execution_count": 56,
   "metadata": {},
   "outputs": [],
   "source": [
    "# The infectious duration over time\n",
    "def D_inf(t):\n",
    "    return D_inf_slider.value"
   ]
  },
  {
   "cell_type": "code",
   "execution_count": 57,
   "metadata": {},
   "outputs": [],
   "source": [
    "# The incubation duration rate over time\n",
    "def D_inc(t):\n",
    "    return D_inc_slider.value"
   ]
  },
  {
   "cell_type": "code",
   "execution_count": 58,
   "metadata": {},
   "outputs": [],
   "source": [
    "# The recovery rate over time\n",
    "def R_recov(t):\n",
    "    return 1 / D_inf(t)"
   ]
  },
  {
   "cell_type": "code",
   "execution_count": 65,
   "metadata": {},
   "outputs": [],
   "source": [
    "# The incubation rate over time\n",
    "def R_inc(t):\n",
    "    return 1 / D_inc(t)"
   ]
  },
  {
   "cell_type": "code",
   "execution_count": 66,
   "metadata": {},
   "outputs": [],
   "source": [
    "max_t = widgets.IntSlider(value=60, min=1, max=720)"
   ]
  },
  {
   "cell_type": "code",
   "execution_count": 67,
   "metadata": {},
   "outputs": [
    {
     "data": {
      "application/vnd.jupyter.widget-view+json": {
       "model_id": "eadb0978e1bc45fa94924a9bc9fb42e2",
       "version_major": 2,
       "version_minor": 0
      },
      "text/plain": [
       "IntSlider(value=60, max=720, min=1)"
      ]
     },
     "metadata": {},
     "output_type": "display_data"
    }
   ],
   "source": [
    "max_t"
   ]
  },
  {
   "cell_type": "code",
   "execution_count": 69,
   "metadata": {},
   "outputs": [],
   "source": [
    "t = np.arange(max_t.value)\n",
    "\n",
    "S_vec = np.zeros(len(t))\n",
    "E_vec = np.zeros(len(t))\n",
    "I_vec = np.zeros(len(t))\n",
    "R_vec = np.zeros(len(t))\n",
    "\n",
    "E_vec[0] = 0\n",
    "I_vec[0] = 1\n",
    "R_vec[0] = 0\n",
    "S_vec[0] = N(0) - I_vec[0]"
   ]
  },
  {
   "cell_type": "code",
   "execution_count": 70,
   "metadata": {},
   "outputs": [],
   "source": [
    "def S(t):\n",
    "    if t < 0:\n",
    "        return S_vec[0]\n",
    "    return S_vec[t] if S_vec[t] > 0 else 0\n",
    "\n",
    "def E(t):\n",
    "    if t < 0:\n",
    "        return E_vec[0]\n",
    "    return E_vec[t] if E_vec[t] > 0 else 0\n",
    "\n",
    "def I(t):\n",
    "    if t < 0:\n",
    "        return I_vec[0]\n",
    "    return I_vec[t] if I_vec[t] > 0 else 0\n",
    "\n",
    "def R(t):\n",
    "    if t < 0:\n",
    "        return R_vec[0]\n",
    "    return R_vec[t] if R_vec[t] > 0 else 0"
   ]
  },
  {
   "cell_type": "code",
   "execution_count": 71,
   "metadata": {},
   "outputs": [],
   "source": [
    "def dS(t):\n",
    "    return - R_inf(t) * S(t) * I(t) / N(t)\n",
    "\n",
    "def dE(t):\n",
    "    return R_inf(t) * S(t) * I(t) / N(t) - R_inc(t) * E(t)\n",
    "\n",
    "def dI(t):\n",
    "    return R_inc(t) * E(t) - R_recov(t) * I(t)\n",
    "\n",
    "def dR(t):\n",
    "    return R_recov(t) * I(t)"
   ]
  },
  {
   "cell_type": "code",
   "execution_count": 72,
   "metadata": {},
   "outputs": [],
   "source": [
    "for i in t:\n",
    "    t_curr = int(i + 1)\n",
    "    \n",
    "    if t_curr == len(t):\n",
    "        continue\n",
    "    \n",
    "    t_prev = int(i)\n",
    "    \n",
    "    S_vec[t_curr] = S(t_prev) + dS(t_prev)\n",
    "    E_vec[t_curr] = E(t_prev) + dE(t_prev)\n",
    "    I_vec[t_curr] = I(t_prev) + dI(t_prev)\n",
    "    R_vec[t_curr] = R(t_prev) + dR(t_prev)"
   ]
  },
  {
   "cell_type": "code",
   "execution_count": 73,
   "metadata": {},
   "outputs": [
    {
     "data": {
      "text/plain": [
       "<matplotlib.legend.Legend at 0x7f718f1e6e90>"
      ]
     },
     "execution_count": 73,
     "metadata": {},
     "output_type": "execute_result"
    },
    {
     "data": {
      "image/png": "[encoded data removed]",
      "text/plain": [
       "<Figure size 432x288 with 1 Axes>"
      ]
     },
     "metadata": {},
     "output_type": "display_data"
    }
   ],
   "source": [
    "fig = plt.figure()\n",
    "ax = plt.axes()\n",
    "\n",
    "ax.plot(t, S_vec, color='blue')\n",
    "ax.plot(t, E_vec, color='orange')\n",
    "ax.plot(t, I_vec, color='red')\n",
    "ax.plot(t, R_vec, color='green')\n",
    "ax.legend(['Susceptible', 'Exposed', 'Infected', 'Removed'])"
   ]
  }
 ],
 "metadata": {
  "kernelspec": {
   "display_name": "Python 3",
   "language": "python",
   "name": "python3"
  },
  "language_info": {
   "codemirror_mode": {
    "name": "ipython",
    "version": 3
   },
   "file_extension": ".py",
   "mimetype": "text/x-python",
   "name": "python",
   "nbconvert_exporter": "python",
   "pygments_lexer": "ipython3",
   "version": "3.7.5"
  }
 },
 "nbformat": 4,
 "nbformat_minor": 4
}
